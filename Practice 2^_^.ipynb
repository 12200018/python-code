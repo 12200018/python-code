{
 "cells": [
  {
   "cell_type": "markdown",
   "metadata": {},
   "source": [
    "# Practice    \n",
    "# Enjoy^_^"
   ]
  },
  {
   "cell_type": "markdown",
   "metadata": {},
   "source": [
    "# Calculating Average of Numbers Using Functions"
   ]
  },
  {
   "cell_type": "code",
   "execution_count": 1,
   "metadata": {},
   "outputs": [
    {
     "name": "stdout",
     "output_type": "stream",
     "text": [
      "the average is 3.0\n"
     ]
    }
   ],
   "source": [
    "def calculateAverage(numbers):\n",
    "    sum=0\n",
    "    for num in numbers:\n",
    "     sum+=num\n",
    "    counter= len(numbers)\n",
    "    average=sum/counter\n",
    "    return average\n",
    "\n",
    "numbers=[1,2,3,4,5] \n",
    "x=calculateAverage(numbers)\n",
    "print(\"the average is\",x)\n",
    "    "
   ]
  },
  {
   "cell_type": "markdown",
   "metadata": {},
   "source": [
    "# Finding the Longest Word in a List"
   ]
  },
  {
   "cell_type": "code",
   "execution_count": 2,
   "metadata": {},
   "outputs": [
    {
     "name": "stdout",
     "output_type": "stream",
     "text": [
      "banana\n"
     ]
    }
   ],
   "source": [
    "def findLongestWord(word):\n",
    "    longestWord=\"\"\n",
    "    for i in word:\n",
    "        if len(i)>len(longestWord):\n",
    "            longestWord=i\n",
    "    return longestWord\n",
    "\n",
    "list=[\"apple\",\"banana\",\"orange\"]\n",
    "x=findLongestWord(list)\n",
    "print(x)    "
   ]
  },
  {
   "cell_type": "markdown",
   "metadata": {},
   "source": [
    "# Checking if a Number is Prime"
   ]
  },
  {
   "cell_type": "code",
   "execution_count": 34,
   "metadata": {},
   "outputs": [
    {
     "name": "stdout",
     "output_type": "stream",
     "text": [
      "40  is  not a prime number\n"
     ]
    }
   ],
   "source": [
    "def is_prime(number):\n",
    " if num<=1:\n",
    "    return False\n",
    " for i in range(2,int(num/2)+1):\n",
    "     if number %i==0:\n",
    "       return False\n",
    "\n",
    " return true\n",
    "\n",
    "num=40\n",
    "if is_prime(num):\n",
    "    print(num,\"is a prime number\")\n",
    "else:\n",
    "    print(num ,\" is  not a prime number\")"
   ]
  },
  {
   "cell_type": "markdown",
   "metadata": {},
   "source": [
    "# Converting Temperature Units"
   ]
  },
  {
   "cell_type": "code",
   "execution_count": 40,
   "metadata": {},
   "outputs": [
    {
     "name": "stdout",
     "output_type": "stream",
     "text": [
      "98.6\n"
     ]
    }
   ],
   "source": [
    "def converterofTemp(cel): #let convert from cel to fahr\n",
    "    fahr=(cel*9/5)+32\n",
    "    return fahr\n",
    "\n",
    "cel =37\n",
    "fahr=converterofTemp(cel)\n",
    "print(fahr)"
   ]
  },
  {
   "cell_type": "markdown",
   "metadata": {},
   "source": [
    "# Generating a List of Squares Using List Comprehension and Functions"
   ]
  },
  {
   "cell_type": "code",
   "execution_count": 42,
   "metadata": {},
   "outputs": [],
   "source": [
    "def squareList(nums):\n",
    "    square=[x**2 in nums]\n",
    "    return square "
   ]
  },
  {
   "cell_type": "markdown",
   "metadata": {},
   "source": [
    "# Converting a List of Strings to Uppercase"
   ]
  },
  {
   "cell_type": "code",
   "execution_count": 6,
   "metadata": {},
   "outputs": [
    {
     "name": "stdout",
     "output_type": "stream",
     "text": [
      "MONA\n"
     ]
    }
   ],
   "source": [
    "def UpperCaseConverter(list):\n",
    "    newString=\"\"\n",
    "    for char in list:\n",
    "        if 'a' <=char<= 'z':\n",
    "            newString+=chr(ord(char)-32)\n",
    "        else:\n",
    "            newString += char\n",
    "    return newString\n",
    "\n",
    "\n",
    "string=\"mona\"\n",
    "print(UpperCaseConverter(string))"
   ]
  },
  {
   "cell_type": "markdown",
   "metadata": {},
   "source": [
    "# Calculating the Total Price Including Tax\n"
   ]
  },
  {
   "cell_type": "code",
   "execution_count": 27,
   "metadata": {},
   "outputs": [
    {
     "name": "stdout",
     "output_type": "stream",
     "text": [
      "1400.0\n"
     ]
    }
   ],
   "source": [
    "def totalPrice(prices,tax):\n",
    "    total=0\n",
    "    for i in prices:\n",
    "        total += i+i*tax\n",
    "    return total\n",
    "    \n",
    "prices=[100,200,300,400]\n",
    "tax=0.4\n",
    "TotalPrice=totalPrice(prices,tax)\n",
    "print(TotalPrice)"
   ]
  },
  {
   "cell_type": "markdown",
   "metadata": {},
   "source": [
    "# Finding the Minimum and Maximum Values in a List"
   ]
  },
  {
   "cell_type": "code",
   "execution_count": 33,
   "metadata": {},
   "outputs": [
    {
     "name": "stdout",
     "output_type": "stream",
     "text": [
      "the Minimum is : 1  , the Maximum is : 99\n"
     ]
    }
   ],
   "source": [
    "def minmax(nums):\n",
    " minival = numbers[0]\n",
    " maxval = numbers[0]\n",
    " for num in numbers:\n",
    "    if num < minival:\n",
    "     minival = num\n",
    "    if num > maxval:\n",
    "     maxval = num\n",
    " return minival, maxval\n",
    "\n",
    "numbers = [1, 10, 94, 91, 5, 99, 72, 6, 5]\n",
    "minival, maxval = minmax(numbers)\n",
    "print(\"the Minimum is :\", minival, \" , the Maximum is :\", maxval)"
   ]
  },
  {
   "cell_type": "markdown",
   "metadata": {},
   "source": [
    "# Checking if a String is a Valid Email Address"
   ]
  },
  {
   "cell_type": "code",
   "execution_count": 37,
   "metadata": {},
   "outputs": [
    {
     "name": "stdout",
     "output_type": "stream",
     "text": [
      "email is valid\n",
      "None\n"
     ]
    }
   ],
   "source": [
    "def valid_email(email):\n",
    " if len(email)<10 or not email.endswith(\"@gmail.com\"):\n",
    "    print(\"email is not valid\")\n",
    " else:\n",
    "    print(\"email is valid\")  \n",
    "\n",
    "\n",
    "email = \"hgghjkjhg@gmail.com\"\n",
    "print(valid_email(email))\n"
   ]
  },
  {
   "cell_type": "markdown",
   "metadata": {},
   "source": [
    "# Counting the Frequency of Each Character in a String"
   ]
  },
  {
   "cell_type": "code",
   "execution_count": 38,
   "metadata": {},
   "outputs": [
    {
     "name": "stdout",
     "output_type": "stream",
     "text": [
      "{'h': 1, 'e': 1, 'l': 3, 'o': 2, ' ': 1, 'w': 1, 'r': 1, 'd': 1}\n"
     ]
    }
   ],
   "source": [
    "def countFrequency(string):\n",
    "    frequency = {}\n",
    "    for char in string:\n",
    "        if char in frequency:\n",
    "            frequency[char] += 1\n",
    "        else:\n",
    "            frequency[char] = 1\n",
    "    return frequency\n",
    "\n",
    "\n",
    "string = \"hello world\"\n",
    "frequency = countFrequency(string)\n",
    "print(frequency)"
   ]
  }
 ],
 "metadata": {
  "kernelspec": {
   "display_name": "Python 3 (ipykernel)",
   "language": "python",
   "name": "python3"
  },
  "language_info": {
   "codemirror_mode": {
    "name": "ipython",
    "version": 3
   },
   "file_extension": ".py",
   "mimetype": "text/x-python",
   "name": "python",
   "nbconvert_exporter": "python",
   "pygments_lexer": "ipython3",
   "version": "3.11.7"
  }
 },
 "nbformat": 4,
 "nbformat_minor": 4
}
